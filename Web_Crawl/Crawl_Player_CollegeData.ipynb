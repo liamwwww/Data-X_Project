{
 "cells": [
  {
   "cell_type": "code",
   "execution_count": 27,
   "metadata": {
    "collapsed": true
   },
   "outputs": [],
   "source": [
    "from urllib.request import urlopen\n",
    "from bs4 import BeautifulSoup\n",
    "import pandas as pd"
   ]
  },
  {
   "cell_type": "code",
   "execution_count": 28,
   "metadata": {
    "collapsed": true
   },
   "outputs": [],
   "source": [
    "import requests\n",
    "import numpy as np"
   ]
  },
  {
   "cell_type": "code",
   "execution_count": 29,
   "metadata": {
    "collapsed": false
   },
   "outputs": [
    {
     "data": {
      "text/plain": [
       "<table class=\"sortable stats_table\" data-cols-to-freeze=\"1\" id=\"all_college_stats\"><caption>College Table</caption>\n",
       "<colgroup><col><col><col><col><col><col><col><col><col><col><col><col><col><col><col><col><col><col><col><col><col><col><col><col><col><col></col></col></col></col></col></col></col></col></col></col></col></col></col></col></col></col></col></col></col></col></col></col></col></col></col></col></colgroup>\n",
       "<thead>\n",
       "<tr class=\"over_header\">\n",
       "<th aria-label=\"\" class=\" over_header center\" colspan=\"3\" data-stat=\"\"></th>\n",
       "<th aria-label=\"\" class=\" over_header center\" colspan=\"16\" data-stat=\"header_totals\">Totals</th>\n",
       "<th aria-label=\"\" class=\" over_header center\" colspan=\"3\" data-stat=\"header_shooting\">Shooting</th>\n",
       "<th aria-label=\"\" class=\" over_header center\" colspan=\"4\" data-stat=\"header_per_g\">Per Game</th>\n",
       "</tr>\n",
       "<tr>\n",
       "<th aria-label=\"If listed as single number, the year the season ended.★ - Indicates All-Star for league.Only on regular season tables.\" class=\" poptip sort_default_asc center\" data-stat=\"season\" data-tip=\"If listed as single number, the year the season ended.&lt;br&gt;★ - Indicates All-Star for league.&lt;br&gt;Only on regular season tables.\" scope=\"col\">Season</th>\n",
       "<th aria-label=\"Age of Player at the start of February 1st of that season.\" class=\" poptip sort_default_asc center\" data-stat=\"age\" data-tip=\"Age of Player at the start of February 1st of that season.\" scope=\"col\">Age</th>\n",
       "<th aria-label=\"College\" class=\" poptip sort_default_asc left\" data-stat=\"college_id\" scope=\"col\">College</th>\n",
       "<th aria-label=\"Games\" class=\" poptip center\" data-over-header=\"Totals\" data-stat=\"g\" data-tip=\"Games\" scope=\"col\">G</th>\n",
       "<th aria-label=\"Minutes Played\" class=\" poptip center\" data-over-header=\"Totals\" data-stat=\"mp\" data-tip=\"Minutes Played\" scope=\"col\">MP</th>\n",
       "<th aria-label=\"Field Goals\" class=\" poptip center\" data-over-header=\"Totals\" data-stat=\"fg\" data-tip=\"Field Goals\" scope=\"col\">FG</th>\n",
       "<th aria-label=\"Field Goal Attempts\" class=\" poptip center\" data-over-header=\"Totals\" data-stat=\"fga\" data-tip=\"Field Goal Attempts\" scope=\"col\">FGA</th>\n",
       "<th aria-label=\"3-Point Field Goals\" class=\" poptip center\" data-over-header=\"Totals\" data-stat=\"fg3\" data-tip=\"3-Point Field Goals\" scope=\"col\">3P</th>\n",
       "<th aria-label=\"3-Point Field Goal Attempts\" class=\" poptip center\" data-over-header=\"Totals\" data-stat=\"fg3a\" data-tip=\"3-Point Field Goal Attempts\" scope=\"col\">3PA</th>\n",
       "<th aria-label=\"Free Throws\" class=\" poptip center\" data-over-header=\"Totals\" data-stat=\"ft\" data-tip=\"Free Throws\" scope=\"col\">FT</th>\n",
       "<th aria-label=\"Free Throw Attempts\" class=\" poptip center\" data-over-header=\"Totals\" data-stat=\"fta\" data-tip=\"Free Throw Attempts\" scope=\"col\">FTA</th>\n",
       "<th aria-label=\"Offensive Rebounds\" class=\" poptip center\" data-over-header=\"Totals\" data-stat=\"orb\" data-tip=\"Offensive Rebounds\" scope=\"col\">ORB</th>\n",
       "<th aria-label=\"Total Rebounds\" class=\" poptip center\" data-over-header=\"Totals\" data-stat=\"trb\" data-tip=\"Total Rebounds\" scope=\"col\">TRB</th>\n",
       "<th aria-label=\"Assists\" class=\" poptip center\" data-over-header=\"Totals\" data-stat=\"ast\" data-tip=\"Assists\" scope=\"col\">AST</th>\n",
       "<th aria-label=\"Steals\" class=\" poptip center\" data-over-header=\"Totals\" data-stat=\"stl\" data-tip=\"Steals\" scope=\"col\">STL</th>\n",
       "<th aria-label=\"Blocks\" class=\" poptip center\" data-over-header=\"Totals\" data-stat=\"blk\" data-tip=\"Blocks\" scope=\"col\">BLK</th>\n",
       "<th aria-label=\"Turnovers\" class=\" poptip center\" data-over-header=\"Totals\" data-stat=\"tov\" data-tip=\"Turnovers\" scope=\"col\">TOV</th>\n",
       "<th aria-label=\"Personal Fouls\" class=\" poptip center\" data-over-header=\"Totals\" data-stat=\"pf\" data-tip=\"Personal Fouls\" scope=\"col\">PF</th>\n",
       "<th aria-label=\"Points\" class=\" poptip center\" data-over-header=\"Totals\" data-stat=\"pts\" data-tip=\"Points\" scope=\"col\">PTS</th>\n",
       "<th aria-label=\"Field Goal Percentage\" class=\" poptip center\" data-over-header=\"Shooting\" data-stat=\"fg_pct\" data-tip=\"Field Goal Percentage\" scope=\"col\">FG%</th>\n",
       "<th aria-label=\"3-Point Field Goal Percentage\" class=\" poptip center\" data-over-header=\"Shooting\" data-stat=\"fg3_pct\" data-tip=\"3-Point Field Goal Percentage\" scope=\"col\">3P%</th>\n",
       "<th aria-label=\"Free Throw Percentage\" class=\" poptip center\" data-over-header=\"Shooting\" data-stat=\"ft_pct\" data-tip=\"Free Throw Percentage\" scope=\"col\">FT%</th>\n",
       "<th aria-label=\"Minutes Played Per Game\" class=\" poptip center\" data-over-header=\"Per Game\" data-stat=\"mp_per_g\" data-tip=\"Minutes Played Per Game\" scope=\"col\">MP</th>\n",
       "<th aria-label=\"Points Per Game\" class=\" poptip center\" data-over-header=\"Per Game\" data-stat=\"pts_per_g\" data-tip=\"Points Per Game\" scope=\"col\">PTS</th>\n",
       "<th aria-label=\"Total Rebounds Per Game\" class=\" poptip center\" data-over-header=\"Per Game\" data-stat=\"trb_per_g\" data-tip=\"Total Rebounds Per Game\" scope=\"col\">TRB</th>\n",
       "<th aria-label=\"Assists Per Game\" class=\" poptip center\" data-over-header=\"Per Game\" data-stat=\"ast_per_g\" data-tip=\"Assists Per Game\" scope=\"col\">AST</th>\n",
       "</tr>\n",
       "</thead>\n",
       "<tbody>\n",
       "<tr><th class=\"left \" data-stat=\"season\" scope=\"row\">2001-02</th><td class=\"right \" data-stat=\"age\">19</td><td class=\"left \" data-stat=\"college_id\"><a href=\"/friv/colleges.cgi?college=michiganst\" title=\"Michigan State University\">MICHIGANST</a></td><td class=\"right \" data-stat=\"g\">31</td><td class=\"right \" data-stat=\"mp\">759</td><td class=\"right \" data-stat=\"fg\">67</td><td class=\"right \" data-stat=\"fga\">149</td><td class=\"right \" data-stat=\"fg3\">2</td><td class=\"right \" data-stat=\"fg3a\">5</td><td class=\"right \" data-stat=\"ft\">67</td><td class=\"right \" data-stat=\"fta\">87</td><td class=\"right \" data-stat=\"orb\"></td><td class=\"right \" data-stat=\"trb\">130</td><td class=\"right \" data-stat=\"ast\">51</td><td class=\"right \" data-stat=\"stl\">18</td><td class=\"right \" data-stat=\"blk\">3</td><td class=\"right \" data-stat=\"tov\"></td><td class=\"right \" data-stat=\"pf\"></td><td class=\"right \" data-stat=\"pts\">203</td><td class=\"right \" data-stat=\"fg_pct\">.450</td><td class=\"right \" data-stat=\"fg3_pct\">.400</td><td class=\"right \" data-stat=\"ft_pct\">.770</td><td class=\"right \" data-stat=\"mp_per_g\">24.5</td><td class=\"right \" data-stat=\"pts_per_g\">6.5</td><td class=\"right \" data-stat=\"trb_per_g\">4.2</td><td class=\"right \" data-stat=\"ast_per_g\">1.6</td></tr>\n",
       "<tr><th class=\"left \" data-stat=\"season\" scope=\"row\">2002-03</th><td class=\"right \" data-stat=\"age\">20</td><td class=\"left \" data-stat=\"college_id\"><a href=\"/friv/colleges.cgi?college=michiganst\" title=\"Michigan State University\">MICHIGANST</a></td><td class=\"right \" data-stat=\"g\">32</td><td class=\"right \" data-stat=\"mp\">883</td><td class=\"right \" data-stat=\"fg\">90</td><td class=\"right \" data-stat=\"fga\">179</td><td class=\"right \" data-stat=\"fg3\">4</td><td class=\"right \" data-stat=\"fg3a\">13</td><td class=\"right \" data-stat=\"ft\">128</td><td class=\"right \" data-stat=\"fta\">152</td><td class=\"right \" data-stat=\"orb\"></td><td class=\"right \" data-stat=\"trb\">117</td><td class=\"right \" data-stat=\"ast\">104</td><td class=\"right \" data-stat=\"stl\">22</td><td class=\"right \" data-stat=\"blk\">8</td><td class=\"right \" data-stat=\"tov\"></td><td class=\"right \" data-stat=\"pf\"></td><td class=\"right \" data-stat=\"pts\">312</td><td class=\"right \" data-stat=\"fg_pct\">.503</td><td class=\"right \" data-stat=\"fg3_pct\">.308</td><td class=\"right \" data-stat=\"ft_pct\">.842</td><td class=\"right \" data-stat=\"mp_per_g\">27.6</td><td class=\"right \" data-stat=\"pts_per_g\">9.8</td><td class=\"right \" data-stat=\"trb_per_g\">3.7</td><td class=\"right \" data-stat=\"ast_per_g\">3.3</td></tr>\n",
       "<tr><th class=\"left \" data-stat=\"season\" scope=\"row\">2003-04</th><td class=\"right \" data-stat=\"age\">21</td><td class=\"left \" data-stat=\"college_id\"><a href=\"/friv/colleges.cgi?college=michiganst\" title=\"Michigan State University\">MICHIGANST</a></td><td class=\"right \" data-stat=\"g\">30</td><td class=\"right \" data-stat=\"mp\">861</td><td class=\"right \" data-stat=\"fg\">78</td><td class=\"right \" data-stat=\"fga\">167</td><td class=\"right \" data-stat=\"fg3\">17</td><td class=\"right \" data-stat=\"fg3a\">48</td><td class=\"right \" data-stat=\"ft\">70</td><td class=\"right \" data-stat=\"fta\">87</td><td class=\"right \" data-stat=\"orb\"></td><td class=\"right \" data-stat=\"trb\">93</td><td class=\"right \" data-stat=\"ast\">96</td><td class=\"right \" data-stat=\"stl\">29</td><td class=\"right \" data-stat=\"blk\">5</td><td class=\"right \" data-stat=\"tov\"></td><td class=\"right \" data-stat=\"pf\"></td><td class=\"right \" data-stat=\"pts\">243</td><td class=\"right \" data-stat=\"fg_pct\">.467</td><td class=\"right \" data-stat=\"fg3_pct\">.354</td><td class=\"right \" data-stat=\"ft_pct\">.805</td><td class=\"right \" data-stat=\"mp_per_g\">28.7</td><td class=\"right \" data-stat=\"pts_per_g\">8.1</td><td class=\"right \" data-stat=\"trb_per_g\">3.1</td><td class=\"right \" data-stat=\"ast_per_g\">3.2</td></tr>\n",
       "<tr><th class=\"left \" data-stat=\"season\" scope=\"row\">2004-05</th><td class=\"right \" data-stat=\"age\">22</td><td class=\"left \" data-stat=\"college_id\"><a href=\"/friv/colleges.cgi?college=michiganst\" title=\"Michigan State University\">MICHIGANST</a></td><td class=\"right \" data-stat=\"g\">33</td><td class=\"right \" data-stat=\"mp\">877</td><td class=\"right \" data-stat=\"fg\">149</td><td class=\"right \" data-stat=\"fga\">268</td><td class=\"right \" data-stat=\"fg3\">25</td><td class=\"right \" data-stat=\"fg3a\">65</td><td class=\"right \" data-stat=\"ft\">114</td><td class=\"right \" data-stat=\"fta\">130</td><td class=\"right \" data-stat=\"orb\"></td><td class=\"right \" data-stat=\"trb\">184</td><td class=\"right \" data-stat=\"ast\">56</td><td class=\"right \" data-stat=\"stl\">32</td><td class=\"right \" data-stat=\"blk\">7</td><td class=\"right \" data-stat=\"tov\"></td><td class=\"right \" data-stat=\"pf\"></td><td class=\"right \" data-stat=\"pts\">437</td><td class=\"right \" data-stat=\"fg_pct\">.556</td><td class=\"right \" data-stat=\"fg3_pct\">.385</td><td class=\"right \" data-stat=\"ft_pct\">.877</td><td class=\"right \" data-stat=\"mp_per_g\">26.6</td><td class=\"right \" data-stat=\"pts_per_g\">13.2</td><td class=\"right \" data-stat=\"trb_per_g\">5.6</td><td class=\"right \" data-stat=\"ast_per_g\">1.7</td></tr>\n",
       "</tbody>\n",
       "<tfoot><tr><th class=\"left \" data-stat=\"season\" scope=\"row\">Career</th><td class=\"right \" data-stat=\"age\"></td><td class=\"left \" data-stat=\"college_id\"></td><td class=\"right \" data-stat=\"g\">126</td><td class=\"right \" data-stat=\"mp\">3380</td><td class=\"right \" data-stat=\"fg\">384</td><td class=\"right \" data-stat=\"fga\">763</td><td class=\"right \" data-stat=\"fg3\">48</td><td class=\"right \" data-stat=\"fg3a\">131</td><td class=\"right \" data-stat=\"ft\">379</td><td class=\"right \" data-stat=\"fta\">456</td><td class=\"right \" data-stat=\"orb\"></td><td class=\"right \" data-stat=\"trb\">524</td><td class=\"right \" data-stat=\"ast\">307</td><td class=\"right \" data-stat=\"stl\">101</td><td class=\"right \" data-stat=\"blk\">23</td><td class=\"right \" data-stat=\"tov\"></td><td class=\"right \" data-stat=\"pf\"></td><td class=\"right \" data-stat=\"pts\">1195</td><td class=\"right \" data-stat=\"fg_pct\">.503</td><td class=\"right \" data-stat=\"fg3_pct\">.366</td><td class=\"right \" data-stat=\"ft_pct\">.831</td><td class=\"right \" data-stat=\"mp_per_g\">26.8</td><td class=\"right \" data-stat=\"pts_per_g\">9.5</td><td class=\"right \" data-stat=\"trb_per_g\">4.2</td><td class=\"right \" data-stat=\"ast_per_g\">2.4</td></tr>\n",
       "</tfoot>\n",
       "</table>"
      ]
     },
     "execution_count": 29,
     "metadata": {},
     "output_type": "execute_result"
    }
   ],
   "source": [
    "leb = 'http://www.basketball-reference.com/players/a/anderal01.html/'\n",
    "#leb='http://www.basketball-reference.com/players/g/gordoaa01.html'\n",
    "player_string_key = leb\n",
    "req = requests.get(player_string_key)\n",
    "index = req.text.find('div_all_college_stats')\n",
    "text = req.text[index:]\n",
    "soup = BeautifulSoup(text, \"html.parser\")\n",
    "table = soup.find('table', id = 'all_college_stats')\n",
    "table"
   ]
  },
  {
   "cell_type": "code",
   "execution_count": 30,
   "metadata": {
    "collapsed": false
   },
   "outputs": [],
   "source": [
    "column_headers = [th.getText() for th in soup.findAll('tr', limit=2)[1].findAll('th')]"
   ]
  },
  {
   "cell_type": "code",
   "execution_count": 31,
   "metadata": {
    "collapsed": false
   },
   "outputs": [
    {
     "data": {
      "text/plain": [
       "['Season',\n",
       " 'Age',\n",
       " 'College',\n",
       " 'G',\n",
       " 'MP',\n",
       " 'FG',\n",
       " 'FGA',\n",
       " '3P',\n",
       " '3PA',\n",
       " 'FT',\n",
       " 'FTA',\n",
       " 'ORB',\n",
       " 'TRB',\n",
       " 'AST',\n",
       " 'STL',\n",
       " 'BLK',\n",
       " 'TOV',\n",
       " 'PF',\n",
       " 'PTS',\n",
       " 'FG%',\n",
       " '3P%',\n",
       " 'FT%',\n",
       " 'MP',\n",
       " 'PTS',\n",
       " 'TRB',\n",
       " 'AST']"
      ]
     },
     "execution_count": 31,
     "metadata": {},
     "output_type": "execute_result"
    }
   ],
   "source": [
    "column_headers"
   ]
  },
  {
   "cell_type": "code",
   "execution_count": 32,
   "metadata": {
    "collapsed": true
   },
   "outputs": [],
   "source": [
    "data_rows = soup.findAll('tr')[2:]  # skip the first two columns"
   ]
  },
  {
   "cell_type": "code",
   "execution_count": 33,
   "metadata": {
    "collapsed": true
   },
   "outputs": [],
   "source": [
    "season_data = [[th.getText() for th in data_rows[i].findAll('th')] \n",
    "               for i in range(len(data_rows))]"
   ]
  },
  {
   "cell_type": "code",
   "execution_count": 34,
   "metadata": {
    "collapsed": false
   },
   "outputs": [],
   "source": [
    "season_data = np.reshape(season_data, -1)"
   ]
  },
  {
   "cell_type": "code",
   "execution_count": 35,
   "metadata": {
    "collapsed": true
   },
   "outputs": [],
   "source": [
    "player_data = [[td.getText() for td in data_rows[i].findAll('td')] \n",
    "               for i in range(len(data_rows))]"
   ]
  },
  {
   "cell_type": "code",
   "execution_count": 36,
   "metadata": {
    "collapsed": false
   },
   "outputs": [
    {
     "data": {
      "text/plain": [
       "[['19',\n",
       "  'MICHIGANST',\n",
       "  '31',\n",
       "  '759',\n",
       "  '67',\n",
       "  '149',\n",
       "  '2',\n",
       "  '5',\n",
       "  '67',\n",
       "  '87',\n",
       "  '',\n",
       "  '130',\n",
       "  '51',\n",
       "  '18',\n",
       "  '3',\n",
       "  '',\n",
       "  '',\n",
       "  '203',\n",
       "  '.450',\n",
       "  '.400',\n",
       "  '.770',\n",
       "  '24.5',\n",
       "  '6.5',\n",
       "  '4.2',\n",
       "  '1.6'],\n",
       " ['20',\n",
       "  'MICHIGANST',\n",
       "  '32',\n",
       "  '883',\n",
       "  '90',\n",
       "  '179',\n",
       "  '4',\n",
       "  '13',\n",
       "  '128',\n",
       "  '152',\n",
       "  '',\n",
       "  '117',\n",
       "  '104',\n",
       "  '22',\n",
       "  '8',\n",
       "  '',\n",
       "  '',\n",
       "  '312',\n",
       "  '.503',\n",
       "  '.308',\n",
       "  '.842',\n",
       "  '27.6',\n",
       "  '9.8',\n",
       "  '3.7',\n",
       "  '3.3'],\n",
       " ['21',\n",
       "  'MICHIGANST',\n",
       "  '30',\n",
       "  '861',\n",
       "  '78',\n",
       "  '167',\n",
       "  '17',\n",
       "  '48',\n",
       "  '70',\n",
       "  '87',\n",
       "  '',\n",
       "  '93',\n",
       "  '96',\n",
       "  '29',\n",
       "  '5',\n",
       "  '',\n",
       "  '',\n",
       "  '243',\n",
       "  '.467',\n",
       "  '.354',\n",
       "  '.805',\n",
       "  '28.7',\n",
       "  '8.1',\n",
       "  '3.1',\n",
       "  '3.2'],\n",
       " ['22',\n",
       "  'MICHIGANST',\n",
       "  '33',\n",
       "  '877',\n",
       "  '149',\n",
       "  '268',\n",
       "  '25',\n",
       "  '65',\n",
       "  '114',\n",
       "  '130',\n",
       "  '',\n",
       "  '184',\n",
       "  '56',\n",
       "  '32',\n",
       "  '7',\n",
       "  '',\n",
       "  '',\n",
       "  '437',\n",
       "  '.556',\n",
       "  '.385',\n",
       "  '.877',\n",
       "  '26.6',\n",
       "  '13.2',\n",
       "  '5.6',\n",
       "  '1.7'],\n",
       " ['',\n",
       "  '',\n",
       "  '126',\n",
       "  '3380',\n",
       "  '384',\n",
       "  '763',\n",
       "  '48',\n",
       "  '131',\n",
       "  '379',\n",
       "  '456',\n",
       "  '',\n",
       "  '524',\n",
       "  '307',\n",
       "  '101',\n",
       "  '23',\n",
       "  '',\n",
       "  '',\n",
       "  '1195',\n",
       "  '.503',\n",
       "  '.366',\n",
       "  '.831',\n",
       "  '26.8',\n",
       "  '9.5',\n",
       "  '4.2',\n",
       "  '2.4']]"
      ]
     },
     "execution_count": 36,
     "metadata": {},
     "output_type": "execute_result"
    }
   ],
   "source": [
    "player_data"
   ]
  },
  {
   "cell_type": "code",
   "execution_count": 37,
   "metadata": {
    "collapsed": false
   },
   "outputs": [],
   "source": [
    "df = pd.DataFrame(player_data, columns=column_headers[1:])"
   ]
  },
  {
   "cell_type": "code",
   "execution_count": 38,
   "metadata": {
    "collapsed": false
   },
   "outputs": [],
   "source": [
    "df[\"Season\"]=season_data"
   ]
  },
  {
   "cell_type": "code",
   "execution_count": 39,
   "metadata": {
    "collapsed": false
   },
   "outputs": [
    {
     "data": {
      "text/html": [
       "<div>\n",
       "<table border=\"1\" class=\"dataframe\">\n",
       "  <thead>\n",
       "    <tr style=\"text-align: right;\">\n",
       "      <th></th>\n",
       "      <th>Age</th>\n",
       "      <th>College</th>\n",
       "      <th>G</th>\n",
       "      <th>MP</th>\n",
       "      <th>FG</th>\n",
       "      <th>FGA</th>\n",
       "      <th>3P</th>\n",
       "      <th>3PA</th>\n",
       "      <th>FT</th>\n",
       "      <th>FTA</th>\n",
       "      <th>...</th>\n",
       "      <th>PF</th>\n",
       "      <th>PTS</th>\n",
       "      <th>FG%</th>\n",
       "      <th>3P%</th>\n",
       "      <th>FT%</th>\n",
       "      <th>MP</th>\n",
       "      <th>PTS</th>\n",
       "      <th>TRB</th>\n",
       "      <th>AST</th>\n",
       "      <th>Season</th>\n",
       "    </tr>\n",
       "  </thead>\n",
       "  <tbody>\n",
       "    <tr>\n",
       "      <th>0</th>\n",
       "      <td>19</td>\n",
       "      <td>MICHIGANST</td>\n",
       "      <td>31</td>\n",
       "      <td>759</td>\n",
       "      <td>67</td>\n",
       "      <td>149</td>\n",
       "      <td>2</td>\n",
       "      <td>5</td>\n",
       "      <td>67</td>\n",
       "      <td>87</td>\n",
       "      <td>...</td>\n",
       "      <td></td>\n",
       "      <td>203</td>\n",
       "      <td>.450</td>\n",
       "      <td>.400</td>\n",
       "      <td>.770</td>\n",
       "      <td>24.5</td>\n",
       "      <td>6.5</td>\n",
       "      <td>4.2</td>\n",
       "      <td>1.6</td>\n",
       "      <td>2001-02</td>\n",
       "    </tr>\n",
       "    <tr>\n",
       "      <th>1</th>\n",
       "      <td>20</td>\n",
       "      <td>MICHIGANST</td>\n",
       "      <td>32</td>\n",
       "      <td>883</td>\n",
       "      <td>90</td>\n",
       "      <td>179</td>\n",
       "      <td>4</td>\n",
       "      <td>13</td>\n",
       "      <td>128</td>\n",
       "      <td>152</td>\n",
       "      <td>...</td>\n",
       "      <td></td>\n",
       "      <td>312</td>\n",
       "      <td>.503</td>\n",
       "      <td>.308</td>\n",
       "      <td>.842</td>\n",
       "      <td>27.6</td>\n",
       "      <td>9.8</td>\n",
       "      <td>3.7</td>\n",
       "      <td>3.3</td>\n",
       "      <td>2002-03</td>\n",
       "    </tr>\n",
       "    <tr>\n",
       "      <th>2</th>\n",
       "      <td>21</td>\n",
       "      <td>MICHIGANST</td>\n",
       "      <td>30</td>\n",
       "      <td>861</td>\n",
       "      <td>78</td>\n",
       "      <td>167</td>\n",
       "      <td>17</td>\n",
       "      <td>48</td>\n",
       "      <td>70</td>\n",
       "      <td>87</td>\n",
       "      <td>...</td>\n",
       "      <td></td>\n",
       "      <td>243</td>\n",
       "      <td>.467</td>\n",
       "      <td>.354</td>\n",
       "      <td>.805</td>\n",
       "      <td>28.7</td>\n",
       "      <td>8.1</td>\n",
       "      <td>3.1</td>\n",
       "      <td>3.2</td>\n",
       "      <td>2003-04</td>\n",
       "    </tr>\n",
       "    <tr>\n",
       "      <th>3</th>\n",
       "      <td>22</td>\n",
       "      <td>MICHIGANST</td>\n",
       "      <td>33</td>\n",
       "      <td>877</td>\n",
       "      <td>149</td>\n",
       "      <td>268</td>\n",
       "      <td>25</td>\n",
       "      <td>65</td>\n",
       "      <td>114</td>\n",
       "      <td>130</td>\n",
       "      <td>...</td>\n",
       "      <td></td>\n",
       "      <td>437</td>\n",
       "      <td>.556</td>\n",
       "      <td>.385</td>\n",
       "      <td>.877</td>\n",
       "      <td>26.6</td>\n",
       "      <td>13.2</td>\n",
       "      <td>5.6</td>\n",
       "      <td>1.7</td>\n",
       "      <td>2004-05</td>\n",
       "    </tr>\n",
       "    <tr>\n",
       "      <th>4</th>\n",
       "      <td></td>\n",
       "      <td></td>\n",
       "      <td>126</td>\n",
       "      <td>3380</td>\n",
       "      <td>384</td>\n",
       "      <td>763</td>\n",
       "      <td>48</td>\n",
       "      <td>131</td>\n",
       "      <td>379</td>\n",
       "      <td>456</td>\n",
       "      <td>...</td>\n",
       "      <td></td>\n",
       "      <td>1195</td>\n",
       "      <td>.503</td>\n",
       "      <td>.366</td>\n",
       "      <td>.831</td>\n",
       "      <td>26.8</td>\n",
       "      <td>9.5</td>\n",
       "      <td>4.2</td>\n",
       "      <td>2.4</td>\n",
       "      <td>Career</td>\n",
       "    </tr>\n",
       "  </tbody>\n",
       "</table>\n",
       "<p>5 rows × 26 columns</p>\n",
       "</div>"
      ],
      "text/plain": [
       "  Age     College    G    MP   FG  FGA  3P  3PA   FT  FTA   ...    PF   PTS  \\\n",
       "0  19  MICHIGANST   31   759   67  149   2    5   67   87   ...         203   \n",
       "1  20  MICHIGANST   32   883   90  179   4   13  128  152   ...         312   \n",
       "2  21  MICHIGANST   30   861   78  167  17   48   70   87   ...         243   \n",
       "3  22  MICHIGANST   33   877  149  268  25   65  114  130   ...         437   \n",
       "4                  126  3380  384  763  48  131  379  456   ...        1195   \n",
       "\n",
       "    FG%   3P%   FT%    MP   PTS  TRB  AST   Season  \n",
       "0  .450  .400  .770  24.5   6.5  4.2  1.6  2001-02  \n",
       "1  .503  .308  .842  27.6   9.8  3.7  3.3  2002-03  \n",
       "2  .467  .354  .805  28.7   8.1  3.1  3.2  2003-04  \n",
       "3  .556  .385  .877  26.6  13.2  5.6  1.7  2004-05  \n",
       "4  .503  .366  .831  26.8   9.5  4.2  2.4   Career  \n",
       "\n",
       "[5 rows x 26 columns]"
      ]
     },
     "execution_count": 39,
     "metadata": {},
     "output_type": "execute_result"
    }
   ],
   "source": [
    "df.head()"
   ]
  },
  {
   "cell_type": "code",
   "execution_count": 40,
   "metadata": {
    "collapsed": true
   },
   "outputs": [],
   "source": [
    "def college_data_scraper(url):\n",
    "    ## scrape the college table\n",
    "    req = requests.get(url)\n",
    "    index = req.text.find('div_all_college_stats')\n",
    "    text = req.text[index:]\n",
    "    soup = BeautifulSoup(text, \"html.parser\")\n",
    "    table = soup.find('table', id = 'all_college_stats')\n",
    "    \n",
    "    ## extract column headers\n",
    "    column_headers = [th.getText() for th in soup.findAll('tr', limit=2)[1].findAll('th')]\n",
    "    \n",
    "    ## extract contents from the table\n",
    "    data_rows = soup.findAll('tr')[2:]  # skip the first two columns\n",
    "    player_data = [[td.getText() for td in data_rows[i].findAll('td')] \n",
    "               for i in range(len(data_rows))]\n",
    "    \n",
    "    ## extract the first column (season)\n",
    "    season_data = [[th.getText() for th in data_rows[i].findAll('th')] \n",
    "               for i in range(len(data_rows))]\n",
    "    season_data = np.reshape(season_data, -1)\n",
    "    \n",
    "    ## combine the columns and data as a data frame\n",
    "    df = pd.DataFrame(player_data, columns=column_headers[1:])\n",
    "    df[\"Season\"] = season_data\n",
    "    return(df)"
   ]
  },
  {
   "cell_type": "code",
   "execution_count": 41,
   "metadata": {
    "collapsed": false
   },
   "outputs": [
    {
     "data": {
      "text/html": [
       "<div>\n",
       "<table border=\"1\" class=\"dataframe\">\n",
       "  <thead>\n",
       "    <tr style=\"text-align: right;\">\n",
       "      <th></th>\n",
       "      <th>Age</th>\n",
       "      <th>College</th>\n",
       "      <th>G</th>\n",
       "      <th>MP</th>\n",
       "      <th>FG</th>\n",
       "      <th>FGA</th>\n",
       "      <th>3P</th>\n",
       "      <th>3PA</th>\n",
       "      <th>FT</th>\n",
       "      <th>FTA</th>\n",
       "      <th>...</th>\n",
       "      <th>PF</th>\n",
       "      <th>PTS</th>\n",
       "      <th>FG%</th>\n",
       "      <th>3P%</th>\n",
       "      <th>FT%</th>\n",
       "      <th>MP</th>\n",
       "      <th>PTS</th>\n",
       "      <th>TRB</th>\n",
       "      <th>AST</th>\n",
       "      <th>Season</th>\n",
       "    </tr>\n",
       "  </thead>\n",
       "  <tbody>\n",
       "    <tr>\n",
       "      <th>0</th>\n",
       "      <td>19</td>\n",
       "      <td>UNLV</td>\n",
       "      <td>35</td>\n",
       "      <td>950</td>\n",
       "      <td>202</td>\n",
       "      <td>379</td>\n",
       "      <td>36</td>\n",
       "      <td>96</td>\n",
       "      <td>124</td>\n",
       "      <td>177</td>\n",
       "      <td>...</td>\n",
       "      <td>80</td>\n",
       "      <td>564</td>\n",
       "      <td>.533</td>\n",
       "      <td>.375</td>\n",
       "      <td>.701</td>\n",
       "      <td>27.1</td>\n",
       "      <td>16.1</td>\n",
       "      <td>8.1</td>\n",
       "      <td>1.0</td>\n",
       "      <td>2012-13</td>\n",
       "    </tr>\n",
       "    <tr>\n",
       "      <th>1</th>\n",
       "      <td></td>\n",
       "      <td></td>\n",
       "      <td>35</td>\n",
       "      <td>950</td>\n",
       "      <td>202</td>\n",
       "      <td>379</td>\n",
       "      <td>36</td>\n",
       "      <td>96</td>\n",
       "      <td>124</td>\n",
       "      <td>177</td>\n",
       "      <td>...</td>\n",
       "      <td>80</td>\n",
       "      <td>564</td>\n",
       "      <td>.533</td>\n",
       "      <td>.375</td>\n",
       "      <td>.701</td>\n",
       "      <td>27.1</td>\n",
       "      <td>16.1</td>\n",
       "      <td>8.1</td>\n",
       "      <td>1.0</td>\n",
       "      <td>Career</td>\n",
       "    </tr>\n",
       "  </tbody>\n",
       "</table>\n",
       "<p>2 rows × 26 columns</p>\n",
       "</div>"
      ],
      "text/plain": [
       "  Age College   G   MP   FG  FGA  3P 3PA   FT  FTA   ...     PF  PTS   FG%  \\\n",
       "0  19    UNLV  35  950  202  379  36  96  124  177   ...     80  564  .533   \n",
       "1              35  950  202  379  36  96  124  177   ...     80  564  .533   \n",
       "\n",
       "    3P%   FT%    MP   PTS  TRB  AST   Season  \n",
       "0  .375  .701  27.1  16.1  8.1  1.0  2012-13  \n",
       "1  .375  .701  27.1  16.1  8.1  1.0   Career  \n",
       "\n",
       "[2 rows x 26 columns]"
      ]
     },
     "execution_count": 41,
     "metadata": {},
     "output_type": "execute_result"
    }
   ],
   "source": [
    "test = college_data_scraper(\"http://www.basketball-reference.com/players/b/bennean01.html\")\n",
    "test.head()"
   ]
  },
  {
   "cell_type": "code",
   "execution_count": 42,
   "metadata": {
    "collapsed": false
   },
   "outputs": [
    {
     "data": {
      "text/plain": [
       "'http://www.basketball-reference.com/players/b/bennean01.html'"
      ]
     },
     "execution_count": 42,
     "metadata": {},
     "output_type": "execute_result"
    }
   ],
   "source": [
    "base = 'http://www.basketball-reference.com/players/'\n",
    "player='b/bennean01'\n",
    "ext='.html'\n",
    "base+player+ext"
   ]
  }
 ],
 "metadata": {
  "kernelspec": {
   "display_name": "Python 3",
   "language": "python",
   "name": "python3"
  },
  "language_info": {
   "codemirror_mode": {
    "name": "ipython",
    "version": 3
   },
   "file_extension": ".py",
   "mimetype": "text/x-python",
   "name": "python",
   "nbconvert_exporter": "python",
   "pygments_lexer": "ipython3",
   "version": "3.5.2"
  }
 },
 "nbformat": 4,
 "nbformat_minor": 0
}
